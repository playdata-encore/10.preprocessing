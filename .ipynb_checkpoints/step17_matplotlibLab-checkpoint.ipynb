{
 "cells": [
  {
   "cell_type": "code",
   "execution_count": 1,
   "metadata": {},
   "outputs": [],
   "source": [
    "import numpy as np\n",
    "import pandas as pd"
   ]
  },
  {
   "cell_type": "code",
   "execution_count": 2,
   "metadata": {},
   "outputs": [],
   "source": [
    "import matplotlib.pyplot as plt\n",
    "plt.rc('font', family='malgun gothic')\n",
    "plt.rc('axes', unicode_minus=False)\n",
    "%matplotlib inline"
   ]
  },
  {
   "cell_type": "code",
   "execution_count": 15,
   "metadata": {},
   "outputs": [
    {
     "data": {
      "text/html": [
       "<div>\n",
       "<style scoped>\n",
       "    .dataframe tbody tr th:only-of-type {\n",
       "        vertical-align: middle;\n",
       "    }\n",
       "\n",
       "    .dataframe tbody tr th {\n",
       "        vertical-align: top;\n",
       "    }\n",
       "\n",
       "    .dataframe thead th {\n",
       "        text-align: right;\n",
       "    }\n",
       "</style>\n",
       "<table border=\"1\" class=\"dataframe\">\n",
       "  <thead>\n",
       "    <tr style=\"text-align: right;\">\n",
       "      <th></th>\n",
       "      <th>도시</th>\n",
       "      <th>월</th>\n",
       "      <th>평균기온</th>\n",
       "      <th>최저기온</th>\n",
       "      <th>최고기온</th>\n",
       "    </tr>\n",
       "  </thead>\n",
       "  <tbody>\n",
       "    <tr>\n",
       "      <th>0</th>\n",
       "      <td>서울</td>\n",
       "      <td>Jan</td>\n",
       "      <td>-4.0</td>\n",
       "      <td>-7.3</td>\n",
       "      <td>0.1</td>\n",
       "    </tr>\n",
       "    <tr>\n",
       "      <th>1</th>\n",
       "      <td>서울</td>\n",
       "      <td>Feb</td>\n",
       "      <td>-1.6</td>\n",
       "      <td>-5.9</td>\n",
       "      <td>3.3</td>\n",
       "    </tr>\n",
       "    <tr>\n",
       "      <th>2</th>\n",
       "      <td>서울</td>\n",
       "      <td>Mar</td>\n",
       "      <td>8.1</td>\n",
       "      <td>3.8</td>\n",
       "      <td>13.6</td>\n",
       "    </tr>\n",
       "    <tr>\n",
       "      <th>3</th>\n",
       "      <td>서울</td>\n",
       "      <td>Apr</td>\n",
       "      <td>13.0</td>\n",
       "      <td>8.1</td>\n",
       "      <td>18.5</td>\n",
       "    </tr>\n",
       "    <tr>\n",
       "      <th>4</th>\n",
       "      <td>서울</td>\n",
       "      <td>May</td>\n",
       "      <td>18.2</td>\n",
       "      <td>13.4</td>\n",
       "      <td>23.3</td>\n",
       "    </tr>\n",
       "    <tr>\n",
       "      <th>5</th>\n",
       "      <td>서울</td>\n",
       "      <td>Jun</td>\n",
       "      <td>23.1</td>\n",
       "      <td>18.9</td>\n",
       "      <td>28.4</td>\n",
       "    </tr>\n",
       "    <tr>\n",
       "      <th>6</th>\n",
       "      <td>서울</td>\n",
       "      <td>Jul</td>\n",
       "      <td>27.8</td>\n",
       "      <td>24.2</td>\n",
       "      <td>32.1</td>\n",
       "    </tr>\n",
       "    <tr>\n",
       "      <th>7</th>\n",
       "      <td>서울</td>\n",
       "      <td>Aug</td>\n",
       "      <td>28.8</td>\n",
       "      <td>25.2</td>\n",
       "      <td>33.3</td>\n",
       "    </tr>\n",
       "    <tr>\n",
       "      <th>8</th>\n",
       "      <td>서울</td>\n",
       "      <td>Sep</td>\n",
       "      <td>21.5</td>\n",
       "      <td>17.6</td>\n",
       "      <td>26.0</td>\n",
       "    </tr>\n",
       "    <tr>\n",
       "      <th>9</th>\n",
       "      <td>서울</td>\n",
       "      <td>Oct</td>\n",
       "      <td>13.1</td>\n",
       "      <td>8.5</td>\n",
       "      <td>18.6</td>\n",
       "    </tr>\n",
       "    <tr>\n",
       "      <th>10</th>\n",
       "      <td>서울</td>\n",
       "      <td>Nov</td>\n",
       "      <td>7.8</td>\n",
       "      <td>3.6</td>\n",
       "      <td>13.2</td>\n",
       "    </tr>\n",
       "    <tr>\n",
       "      <th>11</th>\n",
       "      <td>서울</td>\n",
       "      <td>Dec</td>\n",
       "      <td>-0.6</td>\n",
       "      <td>-4.7</td>\n",
       "      <td>4.1</td>\n",
       "    </tr>\n",
       "    <tr>\n",
       "      <th>12</th>\n",
       "      <td>인천</td>\n",
       "      <td>Jan</td>\n",
       "      <td>-3.8</td>\n",
       "      <td>-6.6</td>\n",
       "      <td>-0.6</td>\n",
       "    </tr>\n",
       "    <tr>\n",
       "      <th>13</th>\n",
       "      <td>인천</td>\n",
       "      <td>Feb</td>\n",
       "      <td>-1.8</td>\n",
       "      <td>-5.2</td>\n",
       "      <td>2.0</td>\n",
       "    </tr>\n",
       "    <tr>\n",
       "      <th>14</th>\n",
       "      <td>인천</td>\n",
       "      <td>Mar</td>\n",
       "      <td>6.9</td>\n",
       "      <td>3.5</td>\n",
       "      <td>11.1</td>\n",
       "    </tr>\n",
       "    <tr>\n",
       "      <th>15</th>\n",
       "      <td>인천</td>\n",
       "      <td>Apr</td>\n",
       "      <td>11.9</td>\n",
       "      <td>8.2</td>\n",
       "      <td>16.3</td>\n",
       "    </tr>\n",
       "    <tr>\n",
       "      <th>16</th>\n",
       "      <td>인천</td>\n",
       "      <td>May</td>\n",
       "      <td>17.0</td>\n",
       "      <td>13.3</td>\n",
       "      <td>21.1</td>\n",
       "    </tr>\n",
       "    <tr>\n",
       "      <th>17</th>\n",
       "      <td>인천</td>\n",
       "      <td>Jun</td>\n",
       "      <td>21.2</td>\n",
       "      <td>18.0</td>\n",
       "      <td>25.4</td>\n",
       "    </tr>\n",
       "    <tr>\n",
       "      <th>18</th>\n",
       "      <td>인천</td>\n",
       "      <td>Jul</td>\n",
       "      <td>26.6</td>\n",
       "      <td>23.7</td>\n",
       "      <td>30.2</td>\n",
       "    </tr>\n",
       "    <tr>\n",
       "      <th>19</th>\n",
       "      <td>인천</td>\n",
       "      <td>Aug</td>\n",
       "      <td>28.1</td>\n",
       "      <td>25.2</td>\n",
       "      <td>31.5</td>\n",
       "    </tr>\n",
       "    <tr>\n",
       "      <th>20</th>\n",
       "      <td>인천</td>\n",
       "      <td>Sep</td>\n",
       "      <td>21.6</td>\n",
       "      <td>18.5</td>\n",
       "      <td>25.0</td>\n",
       "    </tr>\n",
       "    <tr>\n",
       "      <th>21</th>\n",
       "      <td>인천</td>\n",
       "      <td>Oct</td>\n",
       "      <td>13.8</td>\n",
       "      <td>10.4</td>\n",
       "      <td>17.7</td>\n",
       "    </tr>\n",
       "    <tr>\n",
       "      <th>22</th>\n",
       "      <td>인천</td>\n",
       "      <td>Nov</td>\n",
       "      <td>8.5</td>\n",
       "      <td>5.3</td>\n",
       "      <td>12.1</td>\n",
       "    </tr>\n",
       "    <tr>\n",
       "      <th>23</th>\n",
       "      <td>인천</td>\n",
       "      <td>Dec</td>\n",
       "      <td>-0.2</td>\n",
       "      <td>-3.5</td>\n",
       "      <td>3.4</td>\n",
       "    </tr>\n",
       "    <tr>\n",
       "      <th>24</th>\n",
       "      <td>철원</td>\n",
       "      <td>Jan</td>\n",
       "      <td>-7.3</td>\n",
       "      <td>-13.3</td>\n",
       "      <td>-1.2</td>\n",
       "    </tr>\n",
       "    <tr>\n",
       "      <th>25</th>\n",
       "      <td>철원</td>\n",
       "      <td>Feb</td>\n",
       "      <td>-4.4</td>\n",
       "      <td>-11.5</td>\n",
       "      <td>2.1</td>\n",
       "    </tr>\n",
       "    <tr>\n",
       "      <th>26</th>\n",
       "      <td>철원</td>\n",
       "      <td>Mar</td>\n",
       "      <td>6.2</td>\n",
       "      <td>-0.4</td>\n",
       "      <td>12.8</td>\n",
       "    </tr>\n",
       "    <tr>\n",
       "      <th>27</th>\n",
       "      <td>철원</td>\n",
       "      <td>Apr</td>\n",
       "      <td>11.2</td>\n",
       "      <td>4.4</td>\n",
       "      <td>17.9</td>\n",
       "    </tr>\n",
       "    <tr>\n",
       "      <th>28</th>\n",
       "      <td>철원</td>\n",
       "      <td>May</td>\n",
       "      <td>16.8</td>\n",
       "      <td>10.9</td>\n",
       "      <td>22.8</td>\n",
       "    </tr>\n",
       "    <tr>\n",
       "      <th>29</th>\n",
       "      <td>철원</td>\n",
       "      <td>Jun</td>\n",
       "      <td>21.7</td>\n",
       "      <td>16.0</td>\n",
       "      <td>27.8</td>\n",
       "    </tr>\n",
       "    <tr>\n",
       "      <th>30</th>\n",
       "      <td>철원</td>\n",
       "      <td>Jul</td>\n",
       "      <td>25.4</td>\n",
       "      <td>21.3</td>\n",
       "      <td>30.4</td>\n",
       "    </tr>\n",
       "    <tr>\n",
       "      <th>31</th>\n",
       "      <td>철원</td>\n",
       "      <td>Aug</td>\n",
       "      <td>26.3</td>\n",
       "      <td>21.8</td>\n",
       "      <td>31.8</td>\n",
       "    </tr>\n",
       "    <tr>\n",
       "      <th>32</th>\n",
       "      <td>철원</td>\n",
       "      <td>Sep</td>\n",
       "      <td>18.8</td>\n",
       "      <td>13.0</td>\n",
       "      <td>25.2</td>\n",
       "    </tr>\n",
       "    <tr>\n",
       "      <th>33</th>\n",
       "      <td>철원</td>\n",
       "      <td>Oct</td>\n",
       "      <td>9.9</td>\n",
       "      <td>3.7</td>\n",
       "      <td>17.2</td>\n",
       "    </tr>\n",
       "    <tr>\n",
       "      <th>34</th>\n",
       "      <td>철원</td>\n",
       "      <td>Nov</td>\n",
       "      <td>4.5</td>\n",
       "      <td>-1.0</td>\n",
       "      <td>11.4</td>\n",
       "    </tr>\n",
       "    <tr>\n",
       "      <th>35</th>\n",
       "      <td>철원</td>\n",
       "      <td>Dec</td>\n",
       "      <td>-4.0</td>\n",
       "      <td>-10.1</td>\n",
       "      <td>2.6</td>\n",
       "    </tr>\n",
       "    <tr>\n",
       "      <th>36</th>\n",
       "      <td>대구</td>\n",
       "      <td>Jan</td>\n",
       "      <td>-0.9</td>\n",
       "      <td>-5.2</td>\n",
       "      <td>4.0</td>\n",
       "    </tr>\n",
       "    <tr>\n",
       "      <th>37</th>\n",
       "      <td>대구</td>\n",
       "      <td>Feb</td>\n",
       "      <td>1.3</td>\n",
       "      <td>-4.2</td>\n",
       "      <td>7.1</td>\n",
       "    </tr>\n",
       "    <tr>\n",
       "      <th>38</th>\n",
       "      <td>대구</td>\n",
       "      <td>Mar</td>\n",
       "      <td>9.2</td>\n",
       "      <td>3.3</td>\n",
       "      <td>15.6</td>\n",
       "    </tr>\n",
       "    <tr>\n",
       "      <th>39</th>\n",
       "      <td>대구</td>\n",
       "      <td>Apr</td>\n",
       "      <td>15.0</td>\n",
       "      <td>8.9</td>\n",
       "      <td>21.4</td>\n",
       "    </tr>\n",
       "    <tr>\n",
       "      <th>40</th>\n",
       "      <td>대구</td>\n",
       "      <td>May</td>\n",
       "      <td>19.2</td>\n",
       "      <td>14.2</td>\n",
       "      <td>24.8</td>\n",
       "    </tr>\n",
       "    <tr>\n",
       "      <th>41</th>\n",
       "      <td>대구</td>\n",
       "      <td>Jun</td>\n",
       "      <td>23.6</td>\n",
       "      <td>18.7</td>\n",
       "      <td>28.7</td>\n",
       "    </tr>\n",
       "    <tr>\n",
       "      <th>42</th>\n",
       "      <td>대구</td>\n",
       "      <td>Jul</td>\n",
       "      <td>28.2</td>\n",
       "      <td>24.0</td>\n",
       "      <td>33.1</td>\n",
       "    </tr>\n",
       "    <tr>\n",
       "      <th>43</th>\n",
       "      <td>대구</td>\n",
       "      <td>Aug</td>\n",
       "      <td>27.7</td>\n",
       "      <td>23.7</td>\n",
       "      <td>32.9</td>\n",
       "    </tr>\n",
       "    <tr>\n",
       "      <th>44</th>\n",
       "      <td>대구</td>\n",
       "      <td>Sep</td>\n",
       "      <td>21.0</td>\n",
       "      <td>17.2</td>\n",
       "      <td>25.4</td>\n",
       "    </tr>\n",
       "    <tr>\n",
       "      <th>45</th>\n",
       "      <td>대구</td>\n",
       "      <td>Oct</td>\n",
       "      <td>14.3</td>\n",
       "      <td>9.3</td>\n",
       "      <td>20.0</td>\n",
       "    </tr>\n",
       "    <tr>\n",
       "      <th>46</th>\n",
       "      <td>대구</td>\n",
       "      <td>Nov</td>\n",
       "      <td>8.8</td>\n",
       "      <td>3.3</td>\n",
       "      <td>15.2</td>\n",
       "    </tr>\n",
       "    <tr>\n",
       "      <th>47</th>\n",
       "      <td>대구</td>\n",
       "      <td>Dec</td>\n",
       "      <td>2.0</td>\n",
       "      <td>-2.3</td>\n",
       "      <td>7.0</td>\n",
       "    </tr>\n",
       "  </tbody>\n",
       "</table>\n",
       "</div>"
      ],
      "text/plain": [
       "    도시    월  평균기온  최저기온  최고기온\n",
       "0   서울  Jan  -4.0  -7.3   0.1\n",
       "1   서울  Feb  -1.6  -5.9   3.3\n",
       "2   서울  Mar   8.1   3.8  13.6\n",
       "3   서울  Apr  13.0   8.1  18.5\n",
       "4   서울  May  18.2  13.4  23.3\n",
       "5   서울  Jun  23.1  18.9  28.4\n",
       "6   서울  Jul  27.8  24.2  32.1\n",
       "7   서울  Aug  28.8  25.2  33.3\n",
       "8   서울  Sep  21.5  17.6  26.0\n",
       "9   서울  Oct  13.1   8.5  18.6\n",
       "10  서울  Nov   7.8   3.6  13.2\n",
       "11  서울  Dec  -0.6  -4.7   4.1\n",
       "12  인천  Jan  -3.8  -6.6  -0.6\n",
       "13  인천  Feb  -1.8  -5.2   2.0\n",
       "14  인천  Mar   6.9   3.5  11.1\n",
       "15  인천  Apr  11.9   8.2  16.3\n",
       "16  인천  May  17.0  13.3  21.1\n",
       "17  인천  Jun  21.2  18.0  25.4\n",
       "18  인천  Jul  26.6  23.7  30.2\n",
       "19  인천  Aug  28.1  25.2  31.5\n",
       "20  인천  Sep  21.6  18.5  25.0\n",
       "21  인천  Oct  13.8  10.4  17.7\n",
       "22  인천  Nov   8.5   5.3  12.1\n",
       "23  인천  Dec  -0.2  -3.5   3.4\n",
       "24  철원  Jan  -7.3 -13.3  -1.2\n",
       "25  철원  Feb  -4.4 -11.5   2.1\n",
       "26  철원  Mar   6.2  -0.4  12.8\n",
       "27  철원  Apr  11.2   4.4  17.9\n",
       "28  철원  May  16.8  10.9  22.8\n",
       "29  철원  Jun  21.7  16.0  27.8\n",
       "30  철원  Jul  25.4  21.3  30.4\n",
       "31  철원  Aug  26.3  21.8  31.8\n",
       "32  철원  Sep  18.8  13.0  25.2\n",
       "33  철원  Oct   9.9   3.7  17.2\n",
       "34  철원  Nov   4.5  -1.0  11.4\n",
       "35  철원  Dec  -4.0 -10.1   2.6\n",
       "36  대구  Jan  -0.9  -5.2   4.0\n",
       "37  대구  Feb   1.3  -4.2   7.1\n",
       "38  대구  Mar   9.2   3.3  15.6\n",
       "39  대구  Apr  15.0   8.9  21.4\n",
       "40  대구  May  19.2  14.2  24.8\n",
       "41  대구  Jun  23.6  18.7  28.7\n",
       "42  대구  Jul  28.2  24.0  33.1\n",
       "43  대구  Aug  27.7  23.7  32.9\n",
       "44  대구  Sep  21.0  17.2  25.4\n",
       "45  대구  Oct  14.3   9.3  20.0\n",
       "46  대구  Nov   8.8   3.3  15.2\n",
       "47  대구  Dec   2.0  -2.3   7.0"
      ]
     },
     "execution_count": 15,
     "metadata": {},
     "output_type": "execute_result"
    }
   ],
   "source": [
    "weather = pd.read_csv('dataSet/weather.csv', encoding='euc-kr')\n",
    "weather"
   ]
  },
  {
   "cell_type": "code",
   "execution_count": 4,
   "metadata": {},
   "outputs": [],
   "source": [
    "seoul = weather[weather['도시']=='서울']\n",
    "daegu = weather[weather['도시']=='대구']"
   ]
  },
  {
   "cell_type": "code",
   "execution_count": 5,
   "metadata": {},
   "outputs": [
    {
     "data": {
      "image/png": "[encoded data removed]",
      "text/plain": [
       "<Figure size 432x288 with 1 Axes>"
      ]
     },
     "metadata": {
      "needs_background": "light"
     },
     "output_type": "display_data"
    }
   ],
   "source": [
    "fig, ax = plt.subplots()\n",
    "\n",
    "\n",
    "# 꺽은선 그래프 (x축, y축)\n",
    "ax.plot(seoul['월'], seoul['평균기온']);"
   ]
  },
  {
   "cell_type": "code",
   "execution_count": 6,
   "metadata": {},
   "outputs": [
    {
     "data": {
      "image/png": "[encoded data removed]",
      "text/plain": [
       "<Figure size 432x288 with 1 Axes>"
      ]
     },
     "metadata": {
      "needs_background": "light"
     },
     "output_type": "display_data"
    }
   ],
   "source": [
    "fig, ax = plt.subplots()\n",
    "ax.plot(seoul['월'], seoul['평균기온']);\n",
    "ax.plot(daegu['월'], daegu['평균기온']);"
   ]
  },
  {
   "cell_type": "code",
   "execution_count": 7,
   "metadata": {},
   "outputs": [
    {
     "data": {
      "image/png": "[encoded data removed]",
      "text/plain": [
       "<Figure size 432x288 with 1 Axes>"
      ]
     },
     "metadata": {
      "needs_background": "light"
     },
     "output_type": "display_data"
    }
   ],
   "source": [
    "fig, ax = plt.subplots()\n",
    "ax.plot(seoul['월'], seoul['평균기온'], marker='o');"
   ]
  },
  {
   "cell_type": "code",
   "execution_count": 8,
   "metadata": {},
   "outputs": [
    {
     "data": {
      "image/png": "[encoded data removed]",
      "text/plain": [
       "<Figure size 432x288 with 1 Axes>"
      ]
     },
     "metadata": {
      "needs_background": "light"
     },
     "output_type": "display_data"
    }
   ],
   "source": [
    "fig, ax = plt.subplots()\n",
    "ax.plot(seoul['월'], seoul['평균기온'], marker='v');"
   ]
  },
  {
   "cell_type": "code",
   "execution_count": 9,
   "metadata": {},
   "outputs": [
    {
     "data": {
      "image/png": "[encoded data removed]",
      "text/plain": [
       "<Figure size 432x288 with 1 Axes>"
      ]
     },
     "metadata": {
      "needs_background": "light"
     },
     "output_type": "display_data"
    }
   ],
   "source": [
    "fig, ax = plt.subplots()\n",
    "ax.plot(seoul['월'], seoul['평균기온'], marker='v', linestyle='--');"
   ]
  },
  {
   "cell_type": "code",
   "execution_count": 10,
   "metadata": {},
   "outputs": [
    {
     "data": {
      "image/png": "[encoded data removed]",
      "text/plain": [
       "<Figure size 432x288 with 1 Axes>"
      ]
     },
     "metadata": {
      "needs_background": "light"
     },
     "output_type": "display_data"
    }
   ],
   "source": [
    "fig, ax = plt.subplots()\n",
    "ax.plot(seoul['월'], seoul['평균기온'], marker='v', linestyle='None');"
   ]
  },
  {
   "cell_type": "code",
   "execution_count": 11,
   "metadata": {},
   "outputs": [
    {
     "data": {
      "image/png": "[encoded data removed]",
      "text/plain": [
       "<Figure size 432x288 with 1 Axes>"
      ]
     },
     "metadata": {
      "needs_background": "light"
     },
     "output_type": "display_data"
    }
   ],
   "source": [
    "fig, ax = plt.subplots()\n",
    "ax.plot(seoul['월'], seoul['평균기온'], marker='v', linestyle='--', color='r');"
   ]
  },
  {
   "cell_type": "code",
   "execution_count": 12,
   "metadata": {},
   "outputs": [
    {
     "data": {
      "image/png": "[encoded data removed]",
      "text/plain": [
       "<Figure size 432x288 with 1 Axes>"
      ]
     },
     "metadata": {
      "needs_background": "light"
     },
     "output_type": "display_data"
    }
   ],
   "source": [
    "fig, ax = plt.subplots()\n",
    "ax.plot(seoul['월'], seoul['평균기온'], marker='v', linestyle='--', color='r')\n",
    "ax.set_xlabel('월')\n",
    "ax.set_ylabel('기온')\n",
    "ax.set_title('서울 기온');"
   ]
  },
  {
   "cell_type": "code",
   "execution_count": 13,
   "metadata": {},
   "outputs": [
    {
     "data": {
      "image/png": "[encoded data removed]",
      "text/plain": [
       "<Figure size 432x288 with 2 Axes>"
      ]
     },
     "metadata": {
      "needs_background": "light"
     },
     "output_type": "display_data"
    }
   ],
   "source": [
    "fig, ax = plt.subplots(2, 1, sharey=True)\n",
    "\n",
    "ax[0].plot(seoul['월'], seoul['평균기온'], color='b')\n",
    "ax[0].plot(seoul['월'], seoul['최저기온'], color='b', linestyle='--')\n",
    "ax[0].plot(seoul['월'], seoul['최고기온'], color='b', linestyle='--')\n",
    "\n",
    "ax[1].plot(daegu['월'], daegu['평균기온'], color='r')\n",
    "ax[1].plot(daegu['월'], daegu['최저기온'], color='r', linestyle='--')\n",
    "ax[1].plot(daegu['월'], daegu['최고기온'], color='r', linestyle='--')\n",
    "\n",
    "ax[0].set_ylabel('기온')\n",
    "ax[1].set_ylabel('기온')\n",
    "ax[1].set_xlabel('월');"
   ]
  },
  {
   "cell_type": "code",
   "execution_count": 16,
   "metadata": {},
   "outputs": [
    {
     "data": {
      "text/html": [
       "<div>\n",
       "<style scoped>\n",
       "    .dataframe tbody tr th:only-of-type {\n",
       "        vertical-align: middle;\n",
       "    }\n",
       "\n",
       "    .dataframe tbody tr th {\n",
       "        vertical-align: top;\n",
       "    }\n",
       "\n",
       "    .dataframe thead th {\n",
       "        text-align: right;\n",
       "    }\n",
       "</style>\n",
       "<table border=\"1\" class=\"dataframe\">\n",
       "  <thead>\n",
       "    <tr style=\"text-align: right;\">\n",
       "      <th></th>\n",
       "      <th>Gold</th>\n",
       "      <th>Silver</th>\n",
       "      <th>Bronze</th>\n",
       "    </tr>\n",
       "    <tr>\n",
       "      <th>Country</th>\n",
       "      <th></th>\n",
       "      <th></th>\n",
       "      <th></th>\n",
       "    </tr>\n",
       "  </thead>\n",
       "  <tbody>\n",
       "    <tr>\n",
       "      <th>USA</th>\n",
       "      <td>2235</td>\n",
       "      <td>1252</td>\n",
       "      <td>1098</td>\n",
       "    </tr>\n",
       "    <tr>\n",
       "      <th>URS</th>\n",
       "      <td>838</td>\n",
       "      <td>627</td>\n",
       "      <td>584</td>\n",
       "    </tr>\n",
       "    <tr>\n",
       "      <th>GBR</th>\n",
       "      <td>546</td>\n",
       "      <td>621</td>\n",
       "      <td>553</td>\n",
       "    </tr>\n",
       "    <tr>\n",
       "      <th>FRA</th>\n",
       "      <td>408</td>\n",
       "      <td>491</td>\n",
       "      <td>497</td>\n",
       "    </tr>\n",
       "    <tr>\n",
       "      <th>GER</th>\n",
       "      <td>452</td>\n",
       "      <td>378</td>\n",
       "      <td>475</td>\n",
       "    </tr>\n",
       "  </tbody>\n",
       "</table>\n",
       "</div>"
      ],
      "text/plain": [
       "         Gold  Silver  Bronze\n",
       "Country                      \n",
       "USA      2235    1252    1098\n",
       "URS       838     627     584\n",
       "GBR       546     621     553\n",
       "FRA       408     491     497\n",
       "GER       452     378     475"
      ]
     },
     "execution_count": 16,
     "metadata": {},
     "output_type": "execute_result"
    }
   ],
   "source": [
    "olympics = pd.read_csv('dataSet/olympics.csv', index_col='Country')\n",
    "olympics.head()"
   ]
  },
  {
   "cell_type": "code",
   "execution_count": 23,
   "metadata": {},
   "outputs": [
    {
     "data": {
      "image/png": "[encoded data removed]",
      "text/plain": [
       "<Figure size 432x288 with 1 Axes>"
      ]
     },
     "metadata": {
      "needs_background": "light"
     },
     "output_type": "display_data"
    }
   ],
   "source": [
    "fig, ax = plt.subplots()\n",
    "ax.bar(olympics.index, olympics['Gold'], width=0.5);"
   ]
  },
  {
   "cell_type": "code",
   "execution_count": 24,
   "metadata": {},
   "outputs": [
    {
     "data": {
      "text/html": [
       "<div>\n",
       "<style scoped>\n",
       "    .dataframe tbody tr th:only-of-type {\n",
       "        vertical-align: middle;\n",
       "    }\n",
       "\n",
       "    .dataframe tbody tr th {\n",
       "        vertical-align: top;\n",
       "    }\n",
       "\n",
       "    .dataframe thead th {\n",
       "        text-align: right;\n",
       "    }\n",
       "</style>\n",
       "<table border=\"1\" class=\"dataframe\">\n",
       "  <thead>\n",
       "    <tr style=\"text-align: right;\">\n",
       "      <th></th>\n",
       "      <th>Gold</th>\n",
       "      <th>Silver</th>\n",
       "      <th>Bronze</th>\n",
       "    </tr>\n",
       "    <tr>\n",
       "      <th>Country</th>\n",
       "      <th></th>\n",
       "      <th></th>\n",
       "      <th></th>\n",
       "    </tr>\n",
       "  </thead>\n",
       "  <tbody>\n",
       "    <tr>\n",
       "      <th>USA</th>\n",
       "      <td>2235</td>\n",
       "      <td>1252</td>\n",
       "      <td>1098</td>\n",
       "    </tr>\n",
       "    <tr>\n",
       "      <th>URS</th>\n",
       "      <td>838</td>\n",
       "      <td>627</td>\n",
       "      <td>584</td>\n",
       "    </tr>\n",
       "    <tr>\n",
       "      <th>GBR</th>\n",
       "      <td>546</td>\n",
       "      <td>621</td>\n",
       "      <td>553</td>\n",
       "    </tr>\n",
       "    <tr>\n",
       "      <th>FRA</th>\n",
       "      <td>408</td>\n",
       "      <td>491</td>\n",
       "      <td>497</td>\n",
       "    </tr>\n",
       "    <tr>\n",
       "      <th>GER</th>\n",
       "      <td>452</td>\n",
       "      <td>378</td>\n",
       "      <td>475</td>\n",
       "    </tr>\n",
       "    <tr>\n",
       "      <th>ITA</th>\n",
       "      <td>476</td>\n",
       "      <td>416</td>\n",
       "      <td>404</td>\n",
       "    </tr>\n",
       "    <tr>\n",
       "      <th>AUS</th>\n",
       "      <td>312</td>\n",
       "      <td>405</td>\n",
       "      <td>472</td>\n",
       "    </tr>\n",
       "    <tr>\n",
       "      <th>HUN</th>\n",
       "      <td>412</td>\n",
       "      <td>316</td>\n",
       "      <td>351</td>\n",
       "    </tr>\n",
       "    <tr>\n",
       "      <th>SWE</th>\n",
       "      <td>349</td>\n",
       "      <td>367</td>\n",
       "      <td>328</td>\n",
       "    </tr>\n",
       "    <tr>\n",
       "      <th>NED</th>\n",
       "      <td>233</td>\n",
       "      <td>279</td>\n",
       "      <td>339</td>\n",
       "    </tr>\n",
       "    <tr>\n",
       "      <th>GDR</th>\n",
       "      <td>329</td>\n",
       "      <td>271</td>\n",
       "      <td>225</td>\n",
       "    </tr>\n",
       "    <tr>\n",
       "      <th>CHN</th>\n",
       "      <td>290</td>\n",
       "      <td>296</td>\n",
       "      <td>221</td>\n",
       "    </tr>\n",
       "    <tr>\n",
       "      <th>JPN</th>\n",
       "      <td>213</td>\n",
       "      <td>272</td>\n",
       "      <td>303</td>\n",
       "    </tr>\n",
       "    <tr>\n",
       "      <th>RUS</th>\n",
       "      <td>239</td>\n",
       "      <td>238</td>\n",
       "      <td>291</td>\n",
       "    </tr>\n",
       "    <tr>\n",
       "      <th>CAN</th>\n",
       "      <td>155</td>\n",
       "      <td>232</td>\n",
       "      <td>262</td>\n",
       "    </tr>\n",
       "    <tr>\n",
       "      <th>ROU</th>\n",
       "      <td>157</td>\n",
       "      <td>195</td>\n",
       "      <td>288</td>\n",
       "    </tr>\n",
       "    <tr>\n",
       "      <th>NOR</th>\n",
       "      <td>209</td>\n",
       "      <td>200</td>\n",
       "      <td>145</td>\n",
       "    </tr>\n",
       "    <tr>\n",
       "      <th>KOR</th>\n",
       "      <td>158</td>\n",
       "      <td>204</td>\n",
       "      <td>167</td>\n",
       "    </tr>\n",
       "    <tr>\n",
       "      <th>POL</th>\n",
       "      <td>106</td>\n",
       "      <td>174</td>\n",
       "      <td>231</td>\n",
       "    </tr>\n",
       "  </tbody>\n",
       "</table>\n",
       "</div>"
      ],
      "text/plain": [
       "         Gold  Silver  Bronze\n",
       "Country                      \n",
       "USA      2235    1252    1098\n",
       "URS       838     627     584\n",
       "GBR       546     621     553\n",
       "FRA       408     491     497\n",
       "GER       452     378     475\n",
       "ITA       476     416     404\n",
       "AUS       312     405     472\n",
       "HUN       412     316     351\n",
       "SWE       349     367     328\n",
       "NED       233     279     339\n",
       "GDR       329     271     225\n",
       "CHN       290     296     221\n",
       "JPN       213     272     303\n",
       "RUS       239     238     291\n",
       "CAN       155     232     262\n",
       "ROU       157     195     288\n",
       "NOR       209     200     145\n",
       "KOR       158     204     167\n",
       "POL       106     174     231"
      ]
     },
     "execution_count": 24,
     "metadata": {},
     "output_type": "execute_result"
    }
   ],
   "source": [
    "olympics"
   ]
  },
  {
   "cell_type": "code",
   "execution_count": 26,
   "metadata": {},
   "outputs": [
    {
     "name": "stderr",
     "output_type": "stream",
     "text": [
      "<ipython-input-26-e031230018c7>:5: UserWarning: FixedFormatter should only be used together with FixedLocator\n",
      "  ax.set_xticklabels(olympics.index, rotation=90)\n"
     ]
    },
    {
     "data": {
      "image/png": "[encoded data removed]",
      "text/plain": [
       "<Figure size 432x288 with 1 Axes>"
      ]
     },
     "metadata": {
      "needs_background": "light"
     },
     "output_type": "display_data"
    }
   ],
   "source": [
    "fig, ax = plt.subplots()\n",
    "ax.bar(olympics.index, olympics['Gold'])\n",
    "\n",
    "# 라벨 이름을 세로로 표현\n",
    "ax.set_xticklabels(olympics.index, rotation=90)\n",
    "# ax.set_xticklabels(olympics.index)\n",
    "\n",
    "ax.set_ylabel('메달 수');"
   ]
  },
  {
   "cell_type": "code",
   "execution_count": 19,
   "metadata": {},
   "outputs": [
    {
     "name": "stderr",
     "output_type": "stream",
     "text": [
      "<ipython-input-19-a99ca2603ed4>:5: UserWarning: FixedFormatter should only be used together with FixedLocator\n",
      "  ax.set_xticklabels(olympics.index, rotation=90)\n"
     ]
    },
    {
     "data": {
      "image/png": "[encoded data removed]",
      "text/plain": [
       "<Figure size 432x288 with 1 Axes>"
      ]
     },
     "metadata": {
      "needs_background": "light"
     },
     "output_type": "display_data"
    }
   ],
   "source": [
    "fig, ax = plt.subplots()\n",
    "ax.bar(olympics.index, olympics['Gold'])\n",
    "ax.bar(olympics.index, olympics['Silver'], bottom=olympics['Gold'])\n",
    "\n",
    "ax.set_xticklabels(olympics.index, rotation=90)\n",
    "ax.set_ylabel('메달 수');"
   ]
  },
  {
   "cell_type": "code",
   "execution_count": 30,
   "metadata": {},
   "outputs": [
    {
     "data": {
      "text/html": [
       "<div>\n",
       "<style scoped>\n",
       "    .dataframe tbody tr th:only-of-type {\n",
       "        vertical-align: middle;\n",
       "    }\n",
       "\n",
       "    .dataframe tbody tr th {\n",
       "        vertical-align: top;\n",
       "    }\n",
       "\n",
       "    .dataframe thead th {\n",
       "        text-align: right;\n",
       "    }\n",
       "</style>\n",
       "<table border=\"1\" class=\"dataframe\">\n",
       "  <thead>\n",
       "    <tr style=\"text-align: right;\">\n",
       "      <th></th>\n",
       "      <th>Gold</th>\n",
       "      <th>Silver</th>\n",
       "      <th>Bronze</th>\n",
       "    </tr>\n",
       "    <tr>\n",
       "      <th>Country</th>\n",
       "      <th></th>\n",
       "      <th></th>\n",
       "      <th></th>\n",
       "    </tr>\n",
       "  </thead>\n",
       "  <tbody>\n",
       "    <tr>\n",
       "      <th>USA</th>\n",
       "      <td>2235</td>\n",
       "      <td>1252</td>\n",
       "      <td>1098</td>\n",
       "    </tr>\n",
       "    <tr>\n",
       "      <th>URS</th>\n",
       "      <td>838</td>\n",
       "      <td>627</td>\n",
       "      <td>584</td>\n",
       "    </tr>\n",
       "    <tr>\n",
       "      <th>GBR</th>\n",
       "      <td>546</td>\n",
       "      <td>621</td>\n",
       "      <td>553</td>\n",
       "    </tr>\n",
       "    <tr>\n",
       "      <th>FRA</th>\n",
       "      <td>408</td>\n",
       "      <td>491</td>\n",
       "      <td>497</td>\n",
       "    </tr>\n",
       "    <tr>\n",
       "      <th>GER</th>\n",
       "      <td>452</td>\n",
       "      <td>378</td>\n",
       "      <td>475</td>\n",
       "    </tr>\n",
       "  </tbody>\n",
       "</table>\n",
       "</div>"
      ],
      "text/plain": [
       "         Gold  Silver  Bronze\n",
       "Country                      \n",
       "USA      2235    1252    1098\n",
       "URS       838     627     584\n",
       "GBR       546     621     553\n",
       "FRA       408     491     497\n",
       "GER       452     378     475"
      ]
     },
     "execution_count": 30,
     "metadata": {},
     "output_type": "execute_result"
    }
   ],
   "source": [
    "olympics.head()"
   ]
  },
  {
   "cell_type": "code",
   "execution_count": 28,
   "metadata": {},
   "outputs": [
    {
     "name": "stderr",
     "output_type": "stream",
     "text": [
      "<ipython-input-28-ccba7deb067b>:5: UserWarning: FixedFormatter should only be used together with FixedLocator\n",
      "  ax.set_xticklabels(olympics.index, rotation=90)\n"
     ]
    },
    {
     "data": {
      "image/png": "[encoded data removed]",
      "text/plain": [
       "<Figure size 432x288 with 1 Axes>"
      ]
     },
     "metadata": {
      "needs_background": "light"
     },
     "output_type": "display_data"
    }
   ],
   "source": [
    "fig, ax = plt.subplots()\n",
    "ax.bar(olympics.index, olympics['Gold'],bottom=olympics['Silver'])\n",
    "ax.bar(olympics.index, olympics['Silver'] )\n",
    "\n",
    "ax.set_xticklabels(olympics.index, rotation=90)\n",
    "ax.set_ylabel('메달 수');"
   ]
  },
  {
   "cell_type": "code",
   "execution_count": null,
   "metadata": {},
   "outputs": [],
   "source": []
  },
  {
   "cell_type": "code",
   "execution_count": 32,
   "metadata": {},
   "outputs": [
    {
     "name": "stderr",
     "output_type": "stream",
     "text": [
      "<ipython-input-32-021e745c56aa>:6: UserWarning: FixedFormatter should only be used together with FixedLocator\n",
      "  ax.set_xticklabels(olympics.index, rotation=90)\n"
     ]
    },
    {
     "data": {
      "image/png": "[encoded data removed]",
      "text/plain": [
       "<Figure size 432x288 with 1 Axes>"
      ]
     },
     "metadata": {
      "needs_background": "light"
     },
     "output_type": "display_data"
    }
   ],
   "source": [
    "fig, ax = plt.subplots()\n",
    "ax.bar(olympics.index, olympics['Gold'])\n",
    "ax.bar(olympics.index, olympics['Silver'], bottom=olympics['Gold'])\n",
    "ax.bar(olympics.index, olympics['Bronze'], bottom=olympics['Gold']+olympics['Silver'])\n",
    "\n",
    "ax.set_xticklabels(olympics.index, rotation=90)\n",
    "ax.set_ylabel('메달 수');"
   ]
  },
  {
   "cell_type": "code",
   "execution_count": 21,
   "metadata": {},
   "outputs": [
    {
     "name": "stderr",
     "output_type": "stream",
     "text": [
      "<ipython-input-21-1e987d9728ca>:6: UserWarning: FixedFormatter should only be used together with FixedLocator\n",
      "  ax.set_xticklabels(olympics.index, rotation=90)\n"
     ]
    },
    {
     "data": {
      "image/png": "[encoded data removed]",
      "text/plain": [
       "<Figure size 432x288 with 1 Axes>"
      ]
     },
     "metadata": {
      "needs_background": "light"
     },
     "output_type": "display_data"
    }
   ],
   "source": [
    "fig, ax = plt.subplots()\n",
    "ax.bar(olympics.index, olympics['Gold'], label='Gold')\n",
    "ax.bar(olympics.index, olympics['Silver'], bottom=olympics['Gold'], label='Silver')\n",
    "ax.bar(olympics.index, olympics['Bronze'], bottom=olympics['Gold']+olympics['Silver'], label='Bronze')\n",
    "\n",
    "ax.set_xticklabels(olympics.index, rotation=90)\n",
    "ax.set_ylabel('메달 수')\n",
    "\n",
    "ax.legend();"
   ]
  },
  {
   "cell_type": "code",
   "execution_count": null,
   "metadata": {},
   "outputs": [],
   "source": []
  }
 ],
 "metadata": {
  "kernelspec": {
   "display_name": "Python 3",
   "language": "python",
   "name": "python3"
  },
  "language_info": {
   "codemirror_mode": {
    "name": "ipython",
    "version": 3
   },
   "file_extension": ".py",
   "mimetype": "text/x-python",
   "name": "python",
   "nbconvert_exporter": "python",
   "pygments_lexer": "ipython3",
   "version": "3.8.5"
  }
 },
 "nbformat": 4,
 "nbformat_minor": 4
}
