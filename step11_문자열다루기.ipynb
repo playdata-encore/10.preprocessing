{
 "cells": [
  {
   "cell_type": "code",
   "execution_count": 1,
   "metadata": {},
   "outputs": [],
   "source": [
    "import numpy as np\n",
    "import pandas as pd"
   ]
  },
  {
   "cell_type": "code",
   "execution_count": 2,
   "metadata": {},
   "outputs": [
    {
     "data": {
      "text/html": [
       "<div>\n",
       "<style scoped>\n",
       "    .dataframe tbody tr th:only-of-type {\n",
       "        vertical-align: middle;\n",
       "    }\n",
       "\n",
       "    .dataframe tbody tr th {\n",
       "        vertical-align: top;\n",
       "    }\n",
       "\n",
       "    .dataframe thead th {\n",
       "        text-align: right;\n",
       "    }\n",
       "</style>\n",
       "<table border=\"1\" class=\"dataframe\">\n",
       "  <thead>\n",
       "    <tr style=\"text-align: right;\">\n",
       "      <th></th>\n",
       "      <th>name</th>\n",
       "      <th>birth</th>\n",
       "      <th>email</th>\n",
       "    </tr>\n",
       "  </thead>\n",
       "  <tbody>\n",
       "    <tr>\n",
       "      <th>0</th>\n",
       "      <td>이영자</td>\n",
       "      <td>2021-01-01 9:10</td>\n",
       "      <td>happy@gmail.com</td>\n",
       "    </tr>\n",
       "    <tr>\n",
       "      <th>1</th>\n",
       "      <td>신동엽</td>\n",
       "      <td>2021-01-08 9:20</td>\n",
       "      <td>sin@naver.com</td>\n",
       "    </tr>\n",
       "    <tr>\n",
       "      <th>2</th>\n",
       "      <td>정찬우</td>\n",
       "      <td>2021-02-01 10:20</td>\n",
       "      <td>Iron at yahoo.co.kr</td>\n",
       "    </tr>\n",
       "    <tr>\n",
       "      <th>3</th>\n",
       "      <td>김태우</td>\n",
       "      <td>2021-02-02 11:40</td>\n",
       "      <td>\\tWidow@gmail.com</td>\n",
       "    </tr>\n",
       "    <tr>\n",
       "      <th>4</th>\n",
       "      <td>이정희</td>\n",
       "      <td>2021-02-28 15:10</td>\n",
       "      <td>thor@daum.net\\t</td>\n",
       "    </tr>\n",
       "    <tr>\n",
       "      <th>5</th>\n",
       "      <td>이나영</td>\n",
       "      <td>2021-06-30 21:20</td>\n",
       "      <td>loki88@gmail.com</td>\n",
       "    </tr>\n",
       "    <tr>\n",
       "      <th>6</th>\n",
       "      <td>이정인</td>\n",
       "      <td>2021-07-20 23:30</td>\n",
       "      <td>fury@naver.com</td>\n",
       "    </tr>\n",
       "    <tr>\n",
       "      <th>7</th>\n",
       "      <td>유재석</td>\n",
       "      <td>2021-08-28 11:48</td>\n",
       "      <td>FALCON@daum.net</td>\n",
       "    </tr>\n",
       "    <tr>\n",
       "      <th>8</th>\n",
       "      <td>백종원</td>\n",
       "      <td>2021-09-01 3:12</td>\n",
       "      <td>kim at gmail.com</td>\n",
       "    </tr>\n",
       "  </tbody>\n",
       "</table>\n",
       "</div>"
      ],
      "text/plain": [
       "  name             birth                  email\n",
       "0  이영자   2021-01-01 9:10       happy@gmail.com \n",
       "1  신동엽   2021-01-08 9:20          sin@naver.com\n",
       "2  정찬우  2021-02-01 10:20   Iron at yahoo.co.kr \n",
       "3  김태우  2021-02-02 11:40      \\tWidow@gmail.com\n",
       "4  이정희  2021-02-28 15:10        thor@daum.net\\t\n",
       "5  이나영  2021-06-30 21:20       loki88@gmail.com\n",
       "6  이정인  2021-07-20 23:30         fury@naver.com\n",
       "7  유재석  2021-08-28 11:48        FALCON@daum.net\n",
       "8  백종원   2021-09-01 3:12       kim at gmail.com"
      ]
     },
     "execution_count": 2,
     "metadata": {},
     "output_type": "execute_result"
    }
   ],
   "source": [
    "df = pd.read_csv('0.dataSet/personinfo.csv')\n",
    "df"
   ]
  },
  {
   "cell_type": "code",
   "execution_count": 3,
   "metadata": {},
   "outputs": [
    {
     "data": {
      "text/plain": [
       "0         happy@gmail.com \n",
       "1            sin@naver.com\n",
       "2     Iron at yahoo.co.kr \n",
       "3        \\tWidow@gmail.com\n",
       "4          thor@daum.net\\t\n",
       "5         loki88@gmail.com\n",
       "6           fury@naver.com\n",
       "7          FALCON@daum.net\n",
       "8         kim at gmail.com\n",
       "Name: email, dtype: object"
      ]
     },
     "execution_count": 3,
     "metadata": {},
     "output_type": "execute_result"
    }
   ],
   "source": [
    "df['email']"
   ]
  },
  {
   "cell_type": "code",
   "execution_count": 4,
   "metadata": {},
   "outputs": [
    {
     "data": {
      "text/plain": [
       "pandas.core.series.Series"
      ]
     },
     "execution_count": 4,
     "metadata": {},
     "output_type": "execute_result"
    }
   ],
   "source": [
    "type(df['email'])"
   ]
  },
  {
   "cell_type": "code",
   "execution_count": 8,
   "metadata": {},
   "outputs": [
    {
     "data": {
      "text/plain": [
       "0        happy@gmail.com\n",
       "1          sin@naver.com\n",
       "2    Iron at yahoo.co.kr\n",
       "3        Widow@gmail.com\n",
       "4          thor@daum.net\n",
       "5       loki88@gmail.com\n",
       "6         fury@naver.com\n",
       "7        FALCON@daum.net\n",
       "8       kim at gmail.com\n",
       "Name: email, dtype: object"
      ]
     },
     "execution_count": 8,
     "metadata": {},
     "output_type": "execute_result"
    }
   ],
   "source": [
    "df['email'] = df['email'].str.strip() # /t 도 잘 없어지고 의미없는 공백 없애줌\n",
    "df['email']"
   ]
  },
  {
   "cell_type": "code",
   "execution_count": 13,
   "metadata": {},
   "outputs": [
    {
     "data": {
      "text/plain": [
       "0    _______________happy@gmail.com\n",
       "1    _________________sin@naver.com\n",
       "2    ___________Iron at yahoo.co.kr\n",
       "3    _______________Widow@gmail.com\n",
       "4    _________________thor@daum.net\n",
       "5    ______________loki88@gmail.com\n",
       "6    ________________fury@naver.com\n",
       "7    _______________FALCON@daum.net\n",
       "8    ______________kim at gmail.com\n",
       "Name: email, dtype: object"
      ]
     },
     "execution_count": 13,
     "metadata": {},
     "output_type": "execute_result"
    }
   ],
   "source": [
    "df['email'].str.pad(width=30, side='left', fillchar='_')"
   ]
  },
  {
   "cell_type": "code",
   "execution_count": 24,
   "metadata": {},
   "outputs": [],
   "source": [
    "df['email'] = df['email'].str.replace(' at ', '@')"
   ]
  },
  {
   "cell_type": "code",
   "execution_count": 25,
   "metadata": {},
   "outputs": [
    {
     "data": {
      "text/plain": [
       "0     [happy, gmail.com]\n",
       "1       [sin, naver.com]\n",
       "2    [Iron, yahoo.co.kr]\n",
       "3     [Widow, gmail.com]\n",
       "4       [thor, daum.net]\n",
       "5    [loki88, gmail.com]\n",
       "6      [fury, naver.com]\n",
       "7     [FALCON, daum.net]\n",
       "8       [kim, gmail.com]\n",
       "Name: email, dtype: object"
      ]
     },
     "execution_count": 25,
     "metadata": {},
     "output_type": "execute_result"
    }
   ],
   "source": [
    "df['email'].str.split('@')"
   ]
  },
  {
   "cell_type": "code",
   "execution_count": 29,
   "metadata": {},
   "outputs": [
    {
     "data": {
      "text/plain": [
       "0      [happy@gmail.com]\n",
       "1       [si, @naver.com]\n",
       "2    [Iro, @yahoo.co.kr]\n",
       "3      [Widow@gmail.com]\n",
       "4       [thor@daum., et]\n",
       "5     [loki88@gmail.com]\n",
       "6      [fury@, aver.com]\n",
       "7     [FALCON@daum., et]\n",
       "8        [kim@gmail.com]\n",
       "Name: email, dtype: object"
      ]
     },
     "execution_count": 29,
     "metadata": {},
     "output_type": "execute_result"
    }
   ],
   "source": [
    "df['email'].str.split('n', n=1)"
   ]
  },
  {
   "cell_type": "markdown",
   "metadata": {},
   "source": [
    "<hr>\n",
    "**결측치 확인**\n",
    "\n",
    "1. isnull()과 sum()을 연결한 메소드 체인 사용\n",
    "\n",
    "2. isnull() : 결측치가 있을 경우 True <-> notnull()\n",
    "\n",
    "3. df.isnull().sum() : 결측치의 개수\n",
    "\n",
    "4. df.isnull().mean() : 결측치의 비율\n",
    "\n",
    "5. dropna() : 결측치 제거\n",
    "    - 결측치(NaN)를 포함하는 레코드(행) 제거\n",
    "    - how=‘any’ : 결측치가 하나라도 있으면 제거 (기본 옵션)\n",
    "    - how=‘all’ : 모든 행이 결측치인 경우 제거\n",
    "    - dropna() 사용시 index를 따로 설정하지 않은 경우 reset_index(drop=True)를 메서드 체인으로 연결해서 사용하는 것을 추천"
   ]
  },
  {
   "cell_type": "code",
   "execution_count": 30,
   "metadata": {},
   "outputs": [],
   "source": [
    "colleges = pd.read_csv('0.dataSet/college.csv')\n",
    "states = ['TX', 'MI']"
   ]
  },
  {
   "cell_type": "code",
   "execution_count": 31,
   "metadata": {},
   "outputs": [],
   "source": [
    "cr1 = colleges.STABBR.isin(states)\n",
    "cr2 = colleges.UGDS_WHITE.between(0.5,0.8)"
   ]
  },
  {
   "cell_type": "code",
   "execution_count": 32,
   "metadata": {},
   "outputs": [
    {
     "name": "stderr",
     "output_type": "stream",
     "text": [
      "C:\\Users\\Playdata\\anaconda3\\lib\\site-packages\\pandas\\core\\computation\\expressions.py:203: UserWarning: evaluating in Python space because the '+' operator is not supported by numexpr for the bool dtype, use '|' instead\n",
      "  warnings.warn(\n"
     ]
    },
    {
     "data": {
      "text/plain": [
       "0       False\n",
       "1        True\n",
       "2       False\n",
       "3        True\n",
       "4       False\n",
       "        ...  \n",
       "7530    False\n",
       "7531    False\n",
       "7532    False\n",
       "7533    False\n",
       "7534     True\n",
       "Length: 7535, dtype: bool"
      ]
     },
     "execution_count": 32,
     "metadata": {},
     "output_type": "execute_result"
    }
   ],
   "source": [
    "cr1 + cr2"
   ]
  },
  {
   "cell_type": "code",
   "execution_count": null,
   "metadata": {},
   "outputs": [],
   "source": []
  }
 ],
 "metadata": {
  "kernelspec": {
   "display_name": "Python 3",
   "language": "python",
   "name": "python3"
  },
  "language_info": {
   "codemirror_mode": {
    "name": "ipython",
    "version": 3
   },
   "file_extension": ".py",
   "mimetype": "text/x-python",
   "name": "python",
   "nbconvert_exporter": "python",
   "pygments_lexer": "ipython3",
   "version": "3.8.5"
  }
 },
 "nbformat": 4,
 "nbformat_minor": 4
}
