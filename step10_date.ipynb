{
 "cells": [
  {
   "cell_type": "markdown",
   "metadata": {},
   "source": [
    "# 날짜 데이터 다루기"
   ]
  },
  {
   "cell_type": "markdown",
   "metadata": {},
   "source": [
    "**datetime 모듈**\n",
    "\n",
    "- date : 연, 월, 일\n",
    "- time : 시간, 분, 초, 마이크로초(백만분의 1초)\n",
    "- datetime : date와 time요소\n",
    "\n",
    "**timestamp 모듈**\n",
    "\n",
    "- 날짜와 시간 모두 포함(나노초 : 10억분의 1초) 단위의 정밀도\n",
    "- 단일 정수나 실수를 전달하면 유닉스 탄생시각(1970년 1월 1일)부터 경과된 시각을 나노초로 전달\n",
    "- numpy의 datetime64데이터 형식에서 도출\n",
    "\n",
    "**timedelta**\n",
    "\n",
    "- 날짜의 덧셈과 뺄셈에 유용"
   ]
  },
  {
   "cell_type": "code",
   "execution_count": 3,
   "metadata": {},
   "outputs": [],
   "source": [
    "import numpy as np\n",
    "import pandas as pd"
   ]
  },
  {
   "cell_type": "code",
   "execution_count": 4,
   "metadata": {},
   "outputs": [
    {
     "data": {
      "text/html": [
       "<div>\n",
       "<style scoped>\n",
       "    .dataframe tbody tr th:only-of-type {\n",
       "        vertical-align: middle;\n",
       "    }\n",
       "\n",
       "    .dataframe tbody tr th {\n",
       "        vertical-align: top;\n",
       "    }\n",
       "\n",
       "    .dataframe thead th {\n",
       "        text-align: right;\n",
       "    }\n",
       "</style>\n",
       "<table border=\"1\" class=\"dataframe\">\n",
       "  <thead>\n",
       "    <tr style=\"text-align: right;\">\n",
       "      <th></th>\n",
       "      <th>name</th>\n",
       "      <th>birth</th>\n",
       "      <th>email</th>\n",
       "    </tr>\n",
       "  </thead>\n",
       "  <tbody>\n",
       "    <tr>\n",
       "      <th>0</th>\n",
       "      <td>이영자</td>\n",
       "      <td>2021-01-01 9:10</td>\n",
       "      <td>happy@gmail.com</td>\n",
       "    </tr>\n",
       "    <tr>\n",
       "      <th>1</th>\n",
       "      <td>신동엽</td>\n",
       "      <td>2021-01-08 9:20</td>\n",
       "      <td>sin@naver.com</td>\n",
       "    </tr>\n",
       "    <tr>\n",
       "      <th>2</th>\n",
       "      <td>정찬우</td>\n",
       "      <td>2021-02-01 10:20</td>\n",
       "      <td>Iron at yahoo.co.kr</td>\n",
       "    </tr>\n",
       "    <tr>\n",
       "      <th>3</th>\n",
       "      <td>김태우</td>\n",
       "      <td>2021-02-02 11:40</td>\n",
       "      <td>\\tWidow@gmail.com</td>\n",
       "    </tr>\n",
       "    <tr>\n",
       "      <th>4</th>\n",
       "      <td>이정희</td>\n",
       "      <td>2021-02-28 15:10</td>\n",
       "      <td>thor@daum.net\\t</td>\n",
       "    </tr>\n",
       "    <tr>\n",
       "      <th>5</th>\n",
       "      <td>이나영</td>\n",
       "      <td>2021-06-30 21:20</td>\n",
       "      <td>loki88@gmail.com</td>\n",
       "    </tr>\n",
       "    <tr>\n",
       "      <th>6</th>\n",
       "      <td>이정인</td>\n",
       "      <td>2021-07-20 23:30</td>\n",
       "      <td>fury@naver.com</td>\n",
       "    </tr>\n",
       "    <tr>\n",
       "      <th>7</th>\n",
       "      <td>유재석</td>\n",
       "      <td>2021-08-28 11:48</td>\n",
       "      <td>FALCON@daum.net</td>\n",
       "    </tr>\n",
       "    <tr>\n",
       "      <th>8</th>\n",
       "      <td>백종원</td>\n",
       "      <td>2021-09-01 3:12</td>\n",
       "      <td>kim at gmail.com</td>\n",
       "    </tr>\n",
       "  </tbody>\n",
       "</table>\n",
       "</div>"
      ],
      "text/plain": [
       "  name             birth                  email\n",
       "0  이영자   2021-01-01 9:10       happy@gmail.com \n",
       "1  신동엽   2021-01-08 9:20          sin@naver.com\n",
       "2  정찬우  2021-02-01 10:20   Iron at yahoo.co.kr \n",
       "3  김태우  2021-02-02 11:40      \\tWidow@gmail.com\n",
       "4  이정희  2021-02-28 15:10        thor@daum.net\\t\n",
       "5  이나영  2021-06-30 21:20       loki88@gmail.com\n",
       "6  이정인  2021-07-20 23:30         fury@naver.com\n",
       "7  유재석  2021-08-28 11:48        FALCON@daum.net\n",
       "8  백종원   2021-09-01 3:12       kim at gmail.com"
      ]
     },
     "execution_count": 4,
     "metadata": {},
     "output_type": "execute_result"
    }
   ],
   "source": [
    "df = pd.read_csv('0.dataSet/personinfo.csv')\n",
    "df"
   ]
  },
  {
   "cell_type": "code",
   "execution_count": 5,
   "metadata": {},
   "outputs": [
    {
     "name": "stdout",
     "output_type": "stream",
     "text": [
      "<class 'pandas.core.frame.DataFrame'>\n",
      "RangeIndex: 9 entries, 0 to 8\n",
      "Data columns (total 3 columns):\n",
      " #   Column  Non-Null Count  Dtype \n",
      "---  ------  --------------  ----- \n",
      " 0   name    9 non-null      object\n",
      " 1   birth   9 non-null      object\n",
      " 2   email   9 non-null      object\n",
      "dtypes: object(3)\n",
      "memory usage: 344.0+ bytes\n"
     ]
    }
   ],
   "source": [
    "df.info()"
   ]
  },
  {
   "cell_type": "code",
   "execution_count": 6,
   "metadata": {},
   "outputs": [
    {
     "data": {
      "text/plain": [
       "0         happy@gmail.com \n",
       "1            sin@naver.com\n",
       "2     Iron at yahoo.co.kr \n",
       "3        \\tWidow@gmail.com\n",
       "4          thor@daum.net\\t\n",
       "5         loki88@gmail.com\n",
       "6           fury@naver.com\n",
       "7          FALCON@daum.net\n",
       "8         kim at gmail.com\n",
       "Name: email, dtype: object"
      ]
     },
     "execution_count": 6,
     "metadata": {},
     "output_type": "execute_result"
    }
   ],
   "source": [
    "df['email']"
   ]
  },
  {
   "cell_type": "code",
   "execution_count": 11,
   "metadata": {},
   "outputs": [
    {
     "data": {
      "text/html": [
       "<div>\n",
       "<style scoped>\n",
       "    .dataframe tbody tr th:only-of-type {\n",
       "        vertical-align: middle;\n",
       "    }\n",
       "\n",
       "    .dataframe tbody tr th {\n",
       "        vertical-align: top;\n",
       "    }\n",
       "\n",
       "    .dataframe thead th {\n",
       "        text-align: right;\n",
       "    }\n",
       "</style>\n",
       "<table border=\"1\" class=\"dataframe\">\n",
       "  <thead>\n",
       "    <tr style=\"text-align: right;\">\n",
       "      <th></th>\n",
       "      <th>name</th>\n",
       "      <th>birth</th>\n",
       "      <th>email</th>\n",
       "    </tr>\n",
       "  </thead>\n",
       "  <tbody>\n",
       "    <tr>\n",
       "      <th>0</th>\n",
       "      <td>이영자</td>\n",
       "      <td>2021-01-01 09:10:00</td>\n",
       "      <td>happy@gmail.com</td>\n",
       "    </tr>\n",
       "    <tr>\n",
       "      <th>1</th>\n",
       "      <td>신동엽</td>\n",
       "      <td>2021-01-08 09:20:00</td>\n",
       "      <td>sin@naver.com</td>\n",
       "    </tr>\n",
       "    <tr>\n",
       "      <th>2</th>\n",
       "      <td>정찬우</td>\n",
       "      <td>2021-02-01 10:20:00</td>\n",
       "      <td>Iron at yahoo.co.kr</td>\n",
       "    </tr>\n",
       "    <tr>\n",
       "      <th>3</th>\n",
       "      <td>김태우</td>\n",
       "      <td>2021-02-02 11:40:00</td>\n",
       "      <td>\\tWidow@gmail.com</td>\n",
       "    </tr>\n",
       "    <tr>\n",
       "      <th>4</th>\n",
       "      <td>이정희</td>\n",
       "      <td>2021-02-28 15:10:00</td>\n",
       "      <td>thor@daum.net\\t</td>\n",
       "    </tr>\n",
       "    <tr>\n",
       "      <th>5</th>\n",
       "      <td>이나영</td>\n",
       "      <td>2021-06-30 21:20:00</td>\n",
       "      <td>loki88@gmail.com</td>\n",
       "    </tr>\n",
       "    <tr>\n",
       "      <th>6</th>\n",
       "      <td>이정인</td>\n",
       "      <td>2021-07-20 23:30:00</td>\n",
       "      <td>fury@naver.com</td>\n",
       "    </tr>\n",
       "    <tr>\n",
       "      <th>7</th>\n",
       "      <td>유재석</td>\n",
       "      <td>2021-08-28 11:48:00</td>\n",
       "      <td>FALCON@daum.net</td>\n",
       "    </tr>\n",
       "    <tr>\n",
       "      <th>8</th>\n",
       "      <td>백종원</td>\n",
       "      <td>2021-09-01 03:12:00</td>\n",
       "      <td>kim at gmail.com</td>\n",
       "    </tr>\n",
       "  </tbody>\n",
       "</table>\n",
       "</div>"
      ],
      "text/plain": [
       "  name               birth                  email\n",
       "0  이영자 2021-01-01 09:10:00       happy@gmail.com \n",
       "1  신동엽 2021-01-08 09:20:00          sin@naver.com\n",
       "2  정찬우 2021-02-01 10:20:00   Iron at yahoo.co.kr \n",
       "3  김태우 2021-02-02 11:40:00      \\tWidow@gmail.com\n",
       "4  이정희 2021-02-28 15:10:00        thor@daum.net\\t\n",
       "5  이나영 2021-06-30 21:20:00       loki88@gmail.com\n",
       "6  이정인 2021-07-20 23:30:00         fury@naver.com\n",
       "7  유재석 2021-08-28 11:48:00        FALCON@daum.net\n",
       "8  백종원 2021-09-01 03:12:00       kim at gmail.com"
      ]
     },
     "execution_count": 11,
     "metadata": {},
     "output_type": "execute_result"
    }
   ],
   "source": [
    "# birth 의 포맷 수정\n",
    "df['birth'] = pd.to_datetime(df['birth'], format='%Y-%m-%d %H:%M', errors='raise')\n",
    "df"
   ]
  },
  {
   "cell_type": "code",
   "execution_count": 16,
   "metadata": {},
   "outputs": [
    {
     "data": {
      "text/plain": [
       "0    92 days 09:10:00\n",
       "1    99 days 09:20:00\n",
       "2   123 days 10:20:00\n",
       "3   124 days 11:40:00\n",
       "4   150 days 15:10:00\n",
       "5   272 days 21:20:00\n",
       "6   292 days 23:30:00\n",
       "7   331 days 11:48:00\n",
       "8   335 days 03:12:00\n",
       "Name: birth, dtype: timedelta64[ns]"
      ]
     },
     "execution_count": 16,
     "metadata": {},
     "output_type": "execute_result"
    }
   ],
   "source": [
    "days = df['birth'] - pd.to_datetime('2020-10-01')\n",
    "days"
   ]
  },
  {
   "cell_type": "code",
   "execution_count": 18,
   "metadata": {},
   "outputs": [
    {
     "data": {
      "text/plain": [
       "pandas.core.series.Series"
      ]
     },
     "execution_count": 18,
     "metadata": {},
     "output_type": "execute_result"
    }
   ],
   "source": [
    "type(days)"
   ]
  },
  {
   "cell_type": "markdown",
   "metadata": {},
   "source": [
    "** 경과일 계산 **\n",
    "\n",
    "1. timedelta[?]\n",
    "2. ? - Y:연도, M:월, D:일, m:분, s:초"
   ]
  },
  {
   "cell_type": "code",
   "execution_count": 20,
   "metadata": {},
   "outputs": [
    {
     "data": {
      "text/plain": [
       "0     92\n",
       "1     99\n",
       "2    123\n",
       "3    124\n",
       "4    150\n",
       "5    272\n",
       "6    292\n",
       "7    331\n",
       "8    335\n",
       "Name: birth, dtype: int32"
      ]
     },
     "execution_count": 20,
     "metadata": {},
     "output_type": "execute_result"
    }
   ],
   "source": [
    "days.astype('timedelta64[D]').astype('int')"
   ]
  },
  {
   "cell_type": "code",
   "execution_count": null,
   "metadata": {},
   "outputs": [],
   "source": []
  }
 ],
 "metadata": {
  "kernelspec": {
   "display_name": "Python 3",
   "language": "python",
   "name": "python3"
  },
  "language_info": {
   "codemirror_mode": {
    "name": "ipython",
    "version": 3
   },
   "file_extension": ".py",
   "mimetype": "text/x-python",
   "name": "python",
   "nbconvert_exporter": "python",
   "pygments_lexer": "ipython3",
   "version": "3.8.5"
  }
 },
 "nbformat": 4,
 "nbformat_minor": 4
}
